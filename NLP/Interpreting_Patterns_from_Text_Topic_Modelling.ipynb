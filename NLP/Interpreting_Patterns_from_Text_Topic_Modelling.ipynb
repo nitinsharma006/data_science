{
  "nbformat": 4,
  "nbformat_minor": 0,
  "metadata": {
    "kernelspec": {
      "display_name": "Python 3",
      "language": "python",
      "name": "python3"
    },
    "language_info": {
      "codemirror_mode": {
        "name": "ipython",
        "version": 3
      },
      "file_extension": ".py",
      "mimetype": "text/x-python",
      "name": "python",
      "nbconvert_exporter": "python",
      "pygments_lexer": "ipython3",
      "version": "3.6.3"
    },
    "colab": {
      "provenance": [],
      "include_colab_link": true
    }
  },
  "cells": [
    {
      "cell_type": "markdown",
      "metadata": {
        "id": "view-in-github",
        "colab_type": "text"
      },
      "source": [
        "<a href=\"https://colab.research.google.com/github/nitinsharma006/data_science/blob/master/NLP/Interpreting_Patterns_from_Text_Topic_Modelling.ipynb\" target=\"_parent\"><img src=\"https://colab.research.google.com/assets/colab-badge.svg\" alt=\"Open In Colab\"/></a>"
      ]
    },
    {
      "cell_type": "code",
      "metadata": {
        "id": "Xfm3LGhTaVrm"
      },
      "source": [
        "from sklearn.decomposition import LatentDirichletAllocation\n",
        "from sklearn.feature_extraction.text import CountVectorizer\n",
        "import numpy as np\n",
        "\n",
        "cvectorizer = CountVectorizer()"
      ],
      "execution_count": null,
      "outputs": []
    },
    {
      "cell_type": "code",
      "metadata": {
        "id": "fNATC-NcaVrt"
      },
      "source": [
        "corpus = [\"i love cooking\", \"I have prepared a cake today\", \"he is going to a new place\", \"he will learn cooking there\"]"
      ],
      "execution_count": null,
      "outputs": []
    },
    {
      "cell_type": "code",
      "metadata": {
        "id": "vgjAOvoZaVr0"
      },
      "source": [
        "cvz = cvectorizer.fit_transform(corpus)"
      ],
      "execution_count": null,
      "outputs": []
    },
    {
      "cell_type": "code",
      "metadata": {
        "id": "0ygFEWCMaVr6",
        "outputId": "599a8c11-aae8-418d-efb6-28ae1080a713",
        "colab": {
          "base_uri": "https://localhost:8080/",
          "height": 52
        }
      },
      "source": [
        "cvz"
      ],
      "execution_count": null,
      "outputs": [
        {
          "output_type": "execute_result",
          "data": {
            "text/plain": [
              "<4x15 sparse matrix of type '<class 'numpy.int64'>'\n",
              "\twith 17 stored elements in Compressed Sparse Row format>"
            ]
          },
          "metadata": {
            "tags": []
          },
          "execution_count": 5
        }
      ]
    },
    {
      "cell_type": "code",
      "metadata": {
        "id": "PmdKIbSEaVr_",
        "outputId": "f93e404f-c5db-41d6-9979-c008d68fe5fd",
        "colab": {
          "base_uri": "https://localhost:8080/"
        }
      },
      "source": [
        "vocab = cvectorizer.get_feature_names()\n",
        "vocab"
      ],
      "execution_count": null,
      "outputs": [
        {
          "output_type": "execute_result",
          "data": {
            "text/plain": [
              "['cake',\n",
              " 'cooking',\n",
              " 'going',\n",
              " 'have',\n",
              " 'he',\n",
              " 'is',\n",
              " 'learn',\n",
              " 'love',\n",
              " 'new',\n",
              " 'place',\n",
              " 'prepared',\n",
              " 'there',\n",
              " 'to',\n",
              " 'today',\n",
              " 'will']"
            ]
          },
          "metadata": {
            "tags": []
          },
          "execution_count": 6
        }
      ]
    },
    {
      "cell_type": "code",
      "metadata": {
        "id": "9X5BJB_aaVsE"
      },
      "source": [
        "lda_model = LatentDirichletAllocation(n_components = 3, max_iter = 20, random_state = 20)\n",
        "X_topics = lda_model.fit_transform(cvz)\n",
        "topic_words = lda_model.components_"
      ],
      "execution_count": null,
      "outputs": []
    },
    {
      "cell_type": "code",
      "metadata": {
        "id": "H9zZ2_77aVsJ",
        "outputId": "8a02323a-4346-46f2-ad1d-86295c349a08",
        "colab": {
          "base_uri": "https://localhost:8080/",
          "height": 69
        }
      },
      "source": [
        "n_top_words = 4\n",
        "\n",
        "for i, topic_dist in enumerate(topic_words):\n",
        "    sorted_topic_dist = np.argsort(topic_dist)\n",
        "    topic_words = np.array(vocab)[sorted_topic_dist]\n",
        "    topic_words = topic_words[:-n_top_words:-1]\n",
        "    print (\"Topic\", str(i+1), topic_words)"
      ],
      "execution_count": null,
      "outputs": [
        {
          "output_type": "stream",
          "text": [
            "Topic 1 ['cooking' 'love' 'will']\n",
            "Topic 2 ['today' 'prepared' 'have']\n",
            "Topic 3 ['he' 'to' 'place']\n"
          ],
          "name": "stdout"
        }
      ]
    },
    {
      "cell_type": "code",
      "metadata": {
        "id": "-s31RUYKaVsQ",
        "outputId": "75c04a6f-835f-46dc-d4d4-3a5c0e75996c",
        "colab": {
          "base_uri": "https://localhost:8080/",
          "height": 86
        }
      },
      "source": [
        "doc_topic = lda_model.transform(cvz)\n",
        "for n in range(doc_topic.shape[0]):\n",
        "    topic_doc = doc_topic[n].argmax()\n",
        "    print (\"Document\", n+1, \" -- Topic:\" ,topic_doc)"
      ],
      "execution_count": null,
      "outputs": [
        {
          "output_type": "stream",
          "text": [
            "Document 1  -- Topic: 0\n",
            "Document 2  -- Topic: 1\n",
            "Document 3  -- Topic: 2\n",
            "Document 4  -- Topic: 2\n"
          ],
          "name": "stdout"
        }
      ]
    },
    {
      "cell_type": "code",
      "metadata": {
        "id": "Al7F_REthVIB"
      },
      "source": [],
      "execution_count": null,
      "outputs": []
    }
  ]
}