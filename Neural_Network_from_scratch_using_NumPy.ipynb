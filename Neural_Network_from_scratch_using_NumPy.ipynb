{
  "nbformat": 4,
  "nbformat_minor": 0,
  "metadata": {
    "colab": {
      "name": "Neural_Network_from_scratch_using_NumPy.ipynb",
      "provenance": [],
      "collapsed_sections": [],
      "include_colab_link": true
    },
    "kernelspec": {
      "name": "python3",
      "display_name": "Python 3"
    },
    "language_info": {
      "codemirror_mode": {
        "name": "ipython",
        "version": 3
      },
      "file_extension": ".py",
      "mimetype": "text/x-python",
      "name": "python",
      "nbconvert_exporter": "python",
      "pygments_lexer": "ipython3",
      "version": "3.6.5"
    },
    "accelerator": "GPU"
  },
  "cells": [
    {
      "cell_type": "markdown",
      "metadata": {
        "id": "view-in-github",
        "colab_type": "text"
      },
      "source": [
        "<a href=\"https://colab.research.google.com/github/nitinsharma006/data_science/blob/main/Neural_Network_from_scratch_using_NumPy.ipynb\" target=\"_parent\"><img src=\"https://colab.research.google.com/assets/colab-badge.svg\" alt=\"Open In Colab\"/></a>"
      ]
    },
    {
      "cell_type": "markdown",
      "metadata": {
        "id": "cEG1dhnuNFRk"
      },
      "source": [
        "# Steps to build a Neural Network in NumPy\n",
        "\n",
        "<ol>1. Loading the dataset (Input and Output)</ol>\n",
        "<ol>2. Architecture of the model (# input, hidden and output neurons)</ol>\n",
        "<ol>3. Initializing the weights for all the layers</ol>\n",
        "<ol>4. Implementing forward propagation</ol>\n",
        "<ol>5. Implementing backward propagation</ol>\n",
        "<ol>6. Train the model for n epochs </ol>"
      ]
    },
    {
      "cell_type": "markdown",
      "metadata": {
        "id": "sbgj7HfHNFRr"
      },
      "source": [
        "## 1. Loading the dataset (Input and Output)"
      ]
    },
    {
      "cell_type": "code",
      "metadata": {
        "id": "E5S9HgBzNFRw"
      },
      "source": [
        "# importing required libraries\n",
        "import numpy as np\n",
        "import matplotlib\n",
        "import matplotlib.pyplot as plt\n",
        "%matplotlib inline"
      ],
      "execution_count": 1,
      "outputs": []
    },
    {
      "cell_type": "code",
      "metadata": {
        "id": "ogs6CaXu2zeZ",
        "outputId": "983cd5fe-a8c3-4d5b-c83c-48351c7f20ce",
        "colab": {
          "base_uri": "https://localhost:8080/"
        }
      },
      "source": [
        "# version of numpy library\n",
        "print('Version of numpy:',np.__version__)"
      ],
      "execution_count": 2,
      "outputs": [
        {
          "output_type": "stream",
          "name": "stdout",
          "text": [
            "Version of numpy: 1.21.5\n"
          ]
        }
      ]
    },
    {
      "cell_type": "code",
      "metadata": {
        "id": "vNmvxGv723N6",
        "outputId": "6d9c1fa3-0717-4d49-d001-5fffe0d87c81",
        "colab": {
          "base_uri": "https://localhost:8080/"
        }
      },
      "source": [
        "# version of matplotlib library\n",
        "print('Version of matplotlib:',matplotlib.__version__)"
      ],
      "execution_count": 3,
      "outputs": [
        {
          "output_type": "stream",
          "name": "stdout",
          "text": [
            "Version of matplotlib: 3.2.2\n"
          ]
        }
      ]
    },
    {
      "cell_type": "code",
      "metadata": {
        "id": "H_h7HoPONFR_",
        "outputId": "8d45f250-2467-4ba5-e706-23589f10f501",
        "colab": {
          "base_uri": "https://localhost:8080/"
        }
      },
      "source": [
        "# creating the input array\n",
        "X=np.array([[1,0,1,0], [1,0,1,1], [0,1,0,1]])\n",
        "print ('\\n Input:')\n",
        "print(X)\n",
        "# shape of input array\n",
        "print('\\n Shape of Input:', X.shape)"
      ],
      "execution_count": 4,
      "outputs": [
        {
          "output_type": "stream",
          "name": "stdout",
          "text": [
            "\n",
            " Input:\n",
            "[[1 0 1 0]\n",
            " [1 0 1 1]\n",
            " [0 1 0 1]]\n",
            "\n",
            " Shape of Input: (3, 4)\n"
          ]
        }
      ]
    },
    {
      "cell_type": "code",
      "metadata": {
        "id": "LVvQz5g39wo3",
        "outputId": "bcb3df6d-d3c5-46a3-f830-956b2f2bf6c1",
        "colab": {
          "base_uri": "https://localhost:8080/"
        }
      },
      "source": [
        "# converting the input in matrix form (observation x feature should be converted to feature x observation)\n",
        "X = X.T\n",
        "print('\\n Input in matrix form:')\n",
        "print(X)\n",
        "# shape of input matrix\n",
        "print('\\n Shape of Input Matrix:', X.shape)"
      ],
      "execution_count": 5,
      "outputs": [
        {
          "output_type": "stream",
          "name": "stdout",
          "text": [
            "\n",
            " Input in matrix form:\n",
            "[[1 1 0]\n",
            " [0 0 1]\n",
            " [1 1 0]\n",
            " [0 1 1]]\n",
            "\n",
            " Shape of Input Matrix: (4, 3)\n"
          ]
        }
      ]
    },
    {
      "cell_type": "code",
      "metadata": {
        "id": "IRe8JE0xNFSL",
        "outputId": "518f8994-5631-447f-c471-91fe7c9c587a",
        "colab": {
          "base_uri": "https://localhost:8080/"
        }
      },
      "source": [
        "# creating the output array\n",
        "y=np.array([[1],[1],[0]])\n",
        "print ('\\n Actual Output:')\n",
        "print(y)\n",
        "\n",
        "# output in matrix form\n",
        "y = y.T\n",
        "\n",
        "print ('\\n Output in matrix form:')\n",
        "print(y)\n",
        "\n",
        "# shape of input array\n",
        "print('\\n Shape of Output:', y.shape)"
      ],
      "execution_count": 6,
      "outputs": [
        {
          "output_type": "stream",
          "name": "stdout",
          "text": [
            "\n",
            " Actual Output:\n",
            "[[1]\n",
            " [1]\n",
            " [0]]\n",
            "\n",
            " Output in matrix form:\n",
            "[[1 1 0]]\n",
            "\n",
            " Shape of Output: (1, 3)\n"
          ]
        }
      ]
    },
    {
      "cell_type": "markdown",
      "metadata": {
        "id": "tKf4Ji1-NFSV"
      },
      "source": [
        "## 2. Architecture of the model (# input, hidden and output neurons)"
      ]
    },
    {
      "cell_type": "code",
      "metadata": {
        "id": "vlhBW0NNNFSg"
      },
      "source": [
        "inputlayer_neurons = X.shape[0] # number of features in data set\n",
        "hiddenlayer_neurons = 3 # number of hidden layers neurons\n",
        "output_neurons = 1 # number of neurons at output layer"
      ],
      "execution_count": 7,
      "outputs": []
    },
    {
      "cell_type": "markdown",
      "metadata": {
        "id": "OoOsLucmNFSo"
      },
      "source": [
        "![alt text](https://drive.google.com/uc?id=1zrEFVsc6bMQZ7fRxbK4DRceaG78k26Pc)"
      ]
    },
    {
      "cell_type": "markdown",
      "metadata": {
        "id": "_Nmwj8RfNFSr"
      },
      "source": [
        "## 3. Initializing the weights for all the layers\n",
        "\n",
        "NOTE: For simplicity, we are assuming that the bias for all the layers is 0"
      ]
    },
    {
      "cell_type": "code",
      "metadata": {
        "id": "1T1IG-W8NFSu"
      },
      "source": [
        "# initializing weight\n",
        "# Shape of w_ih should be number of neurons at input layer X number of neurons at hidden layer -- in this case it is 4x3\n",
        "w_ih=np.random.uniform(size=(inputlayer_neurons,hiddenlayer_neurons))\n",
        "\n",
        "\n",
        "# Shape of w_ho should number of neurons at hidden layer X number of neurons at output layer -- in this case it is 3x1\n",
        "w_ho=np.random.uniform(size=(hiddenlayer_neurons,output_neurons))"
      ],
      "execution_count": 8,
      "outputs": []
    },
    {
      "cell_type": "code",
      "metadata": {
        "id": "Fpa1--9KNFS1",
        "outputId": "d296e6d8-358a-4544-9969-79a6213f3fa3",
        "colab": {
          "base_uri": "https://localhost:8080/"
        }
      },
      "source": [
        "# shape of weight matrix\n",
        "w_ih.shape, w_ho.shape"
      ],
      "execution_count": 9,
      "outputs": [
        {
          "output_type": "execute_result",
          "data": {
            "text/plain": [
              "((4, 3), (3, 1))"
            ]
          },
          "metadata": {},
          "execution_count": 9
        }
      ]
    },
    {
      "cell_type": "markdown",
      "metadata": {
        "id": "srrDW1MNNFS-"
      },
      "source": [
        "## 4. Implementing forward propagation"
      ]
    },
    {
      "cell_type": "markdown",
      "metadata": {
        "id": "-g-SocwQNFTC"
      },
      "source": [
        "![alt text](https://drive.google.com/uc?id=1YwD7vY9k84vZmjmE5CXgQ69fYyadPsox)"
      ]
    },
    {
      "cell_type": "code",
      "metadata": {
        "id": "sOcBji4iNFTE"
      },
      "source": [
        "# We are using sigmoid as an activation function so defining the sigmoid function here\n",
        "\n",
        "# defining the Sigmoid Function\n",
        "def sigmoid (x):\n",
        "    return 1/(1 + np.exp(-x))"
      ],
      "execution_count": 10,
      "outputs": []
    },
    {
      "cell_type": "code",
      "metadata": {
        "id": "DO6AYHtGNFTM"
      },
      "source": [
        "# hidden layer activations\n",
        "# In order to find h1 we first need the value of Z1 (this is the dot product of weight matrix of input hidden connection transpose and inputs)\n",
        "\n",
        "hidden_layer_input=np.dot(w_ih.T,X)\n",
        "hiddenlayer_activations = sigmoid(hidden_layer_input)"
      ],
      "execution_count": 14,
      "outputs": []
    },
    {
      "cell_type": "markdown",
      "metadata": {
        "id": "o8zzYX6pNFTT"
      },
      "source": [
        "![alt text](https://drive.google.com/uc?id=1ETMoLD1fwi5u1HHLqtAdVUs-P8HNOU_p)"
      ]
    },
    {
      "cell_type": "code",
      "metadata": {
        "id": "CuqKwiToNFTW"
      },
      "source": [
        "# calculating the output\n",
        "output_layer_input=np.dot(w_ho.T,hiddenlayer_activations)\n",
        "output = sigmoid(output_layer_input)"
      ],
      "execution_count": 12,
      "outputs": []
    },
    {
      "cell_type": "code",
      "metadata": {
        "id": "BjPlMkVMNFTd",
        "outputId": "b3a6e114-2fde-4bc8-e9a0-367685a91b03",
        "colab": {
          "base_uri": "https://localhost:8080/"
        }
      },
      "source": [
        "# output\n",
        "output"
      ],
      "execution_count": 13,
      "outputs": [
        {
          "output_type": "execute_result",
          "data": {
            "text/plain": [
              "array([[0.71390826, 0.7399388 , 0.715096  ]])"
            ]
          },
          "metadata": {},
          "execution_count": 13
        }
      ]
    },
    {
      "cell_type": "markdown",
      "metadata": {
        "id": "mdFKMYyzNFTm"
      },
      "source": [
        "## 5. Implementing backward propagation"
      ]
    },
    {
      "cell_type": "markdown",
      "metadata": {
        "id": "c2m3XBgZNFTn"
      },
      "source": [
        "![alt text](https://drive.google.com/uc?id=1uYdg4mQL-B9o7BTOLnfoYUhh_LxTnpcW)"
      ]
    },
    {
      "cell_type": "code",
      "metadata": {
        "id": "IvUAAhlcNFTp"
      },
      "source": [
        "# calculating error\n",
        "error = np.square(y-output)/2"
      ],
      "execution_count": 15,
      "outputs": []
    },
    {
      "cell_type": "markdown",
      "metadata": {
        "id": "3H0vjBdNNFTw"
      },
      "source": [
        "### Rate of change of error w.r.t weight between hidden and output layer"
      ]
    },
    {
      "cell_type": "markdown",
      "metadata": {
        "id": "4cncCd1WNFTz"
      },
      "source": [
        "![alt text](https://drive.google.com/uc?id=1_KexjgVJGRptZ6t1eobTter3mfIGo9rs)"
      ]
    },
    {
      "cell_type": "markdown",
      "metadata": {
        "id": "DqrhlDeDNFT1"
      },
      "source": [
        "**a. Rate of change of error w.r.t output**\n",
        "\n",
        "**b. Rate of change of output w.r.t Z2**\n",
        "\n",
        "**c. Rate of change of Z2 w.r.t weights between hidden and output layer**"
      ]
    },
    {
      "cell_type": "code",
      "metadata": {
        "id": "bKdk5m4FNFT3"
      },
      "source": [
        "# rate of change of error w.r.t. output\n",
        "error_wrt_output = -(y-output)"
      ],
      "execution_count": 16,
      "outputs": []
    },
    {
      "cell_type": "code",
      "metadata": {
        "id": "Bl1PDwrBNFT9"
      },
      "source": [
        "# rate of change of output w.r.t. Z2\n",
        "output_wrt_Z2 = np.multiply(output,(1-output))"
      ],
      "execution_count": 17,
      "outputs": []
    },
    {
      "cell_type": "code",
      "metadata": {
        "id": "3vLk1nxLNFUD"
      },
      "source": [
        "# rate of change of Z2 w.r.t. weights between hidden and output layer\n",
        "Z2_wrt_who = hiddenlayer_activations"
      ],
      "execution_count": 18,
      "outputs": []
    },
    {
      "cell_type": "code",
      "metadata": {
        "id": "UXXifY9QNFUI",
        "outputId": "58cb6b2d-2f68-4dee-fb25-0782dc3acd78",
        "colab": {
          "base_uri": "https://localhost:8080/"
        }
      },
      "source": [
        "# checking the shapes of partial derivatives\n",
        "error_wrt_output.shape, output_wrt_Z2.shape, Z2_wrt_who.shape"
      ],
      "execution_count": 19,
      "outputs": [
        {
          "output_type": "execute_result",
          "data": {
            "text/plain": [
              "((1, 3), (1, 3), (3, 3))"
            ]
          },
          "metadata": {},
          "execution_count": 19
        }
      ]
    },
    {
      "cell_type": "code",
      "metadata": {
        "id": "ZvtS7wCRNFUN",
        "outputId": "e309ffdf-0072-4c31-b7c8-936a99d8ff03",
        "colab": {
          "base_uri": "https://localhost:8080/"
        }
      },
      "source": [
        "# shape of weights of output layer\n",
        "w_ho.shape"
      ],
      "execution_count": 20,
      "outputs": [
        {
          "output_type": "execute_result",
          "data": {
            "text/plain": [
              "(3, 1)"
            ]
          },
          "metadata": {},
          "execution_count": 20
        }
      ]
    },
    {
      "cell_type": "markdown",
      "metadata": {
        "id": "gC9zQEH6HON5"
      },
      "source": [
        "![alt text](https://drive.google.com/uc?id=1VesmZOVpfgLFESvOFd7dE-YHNtSMMkvM)"
      ]
    },
    {
      "cell_type": "code",
      "metadata": {
        "id": "l3HNVYGONFUr"
      },
      "source": [
        "# rate of change of error w.r.t weight between hidden and output layer\n",
        "error_wrt_who = np.dot(Z2_wrt_who,(error_wrt_output*output_wrt_Z2).T)"
      ],
      "execution_count": 21,
      "outputs": []
    },
    {
      "cell_type": "code",
      "metadata": {
        "id": "cwyI1EGZNFUw",
        "colab": {
          "base_uri": "https://localhost:8080/"
        },
        "outputId": "e0754e28-042c-4993-a163-efac77aeb2be"
      },
      "source": [
        "error_wrt_who.shape"
      ],
      "execution_count": 22,
      "outputs": [
        {
          "output_type": "execute_result",
          "data": {
            "text/plain": [
              "(3, 1)"
            ]
          },
          "metadata": {},
          "execution_count": 22
        }
      ]
    },
    {
      "cell_type": "markdown",
      "metadata": {
        "id": "sDFPg2SHNFU2"
      },
      "source": [
        "### Rate of change of error w.r.t weight between input and hidden layer"
      ]
    },
    {
      "cell_type": "markdown",
      "metadata": {
        "id": "_757MrjBNFU2"
      },
      "source": [
        "![alt text](https://drive.google.com/uc?id=1X4-iInwlv7ber3fwgtqHuHTuFRci-tMV)"
      ]
    },
    {
      "cell_type": "markdown",
      "metadata": {
        "id": "_nPYGXkeNFU4"
      },
      "source": [
        "**a. Rate of change of error w.r.t output**\n",
        "\n",
        "**b. Rate of change of output w.r.t Z2**\n",
        "\n",
        "**c. Rate of change of Z2 w.r.t hidden layer activations**\n",
        "\n",
        "**d. Rate of change of hidden layer activations w.r.t Z1**\n",
        "\n",
        "**e. Rate of change of Z1 w.r.t weights between input and hidden layer**"
      ]
    },
    {
      "cell_type": "code",
      "metadata": {
        "id": "Sb7Ezxw9NFU6"
      },
      "source": [
        "# rate of change of error w.r.t. output\n",
        "error_wrt_output = -(y-output)"
      ],
      "execution_count": 23,
      "outputs": []
    },
    {
      "cell_type": "code",
      "metadata": {
        "id": "3-SGbNaoNFVA"
      },
      "source": [
        "# rate of change of output w.r.t. Z2\n",
        "output_wrt_Z2 = np.multiply(output,(1-output))"
      ],
      "execution_count": 24,
      "outputs": []
    },
    {
      "cell_type": "code",
      "metadata": {
        "id": "amuoR7h6NFVF"
      },
      "source": [
        "# rate of change of Z2 w.r.t. hidden layer activations\n",
        "Z2_wrt_h1 = w_ho"
      ],
      "execution_count": 25,
      "outputs": []
    },
    {
      "cell_type": "code",
      "metadata": {
        "id": "YDUZEdWKNFVJ"
      },
      "source": [
        "# rate of change of hidden layer activations w.r.t. Z1\n",
        "h1_wrt_Z1 = np.multiply(hiddenlayer_activations,(1-hiddenlayer_activations))"
      ],
      "execution_count": 26,
      "outputs": []
    },
    {
      "cell_type": "code",
      "metadata": {
        "id": "Ft4U6Td6NFVO"
      },
      "source": [
        "# rate of change of Z1 w.r.t. weights between input and hidden layer\n",
        "Z1_wrt_wih = X"
      ],
      "execution_count": 27,
      "outputs": []
    },
    {
      "cell_type": "code",
      "metadata": {
        "id": "A-hsfsi4NFVR",
        "outputId": "c7b23065-6e0e-4856-a3ff-3cceb0e9f6bc",
        "colab": {
          "base_uri": "https://localhost:8080/"
        }
      },
      "source": [
        "# checking the shapes of partial derivatives\n",
        "error_wrt_output.shape, output_wrt_Z2.shape, Z2_wrt_h1.shape, h1_wrt_Z1.shape, Z1_wrt_wih.shape"
      ],
      "execution_count": 28,
      "outputs": [
        {
          "output_type": "execute_result",
          "data": {
            "text/plain": [
              "((1, 3), (1, 3), (3, 1), (3, 3), (4, 3))"
            ]
          },
          "metadata": {},
          "execution_count": 28
        }
      ]
    },
    {
      "cell_type": "code",
      "metadata": {
        "id": "1uka_yPrNFVV",
        "colab": {
          "base_uri": "https://localhost:8080/"
        },
        "outputId": "498e4cc4-d076-4c47-f944-0a6f30c6f330"
      },
      "source": [
        "# shape of weights of hidden layer\n",
        "w_ih.shape"
      ],
      "execution_count": 29,
      "outputs": [
        {
          "output_type": "execute_result",
          "data": {
            "text/plain": [
              "(4, 3)"
            ]
          },
          "metadata": {},
          "execution_count": 29
        }
      ]
    },
    {
      "cell_type": "markdown",
      "metadata": {
        "id": "gCeSm7vrHbHj"
      },
      "source": [
        "![alt text](https://drive.google.com/uc?id=1RkG5x1NEFWlF3tj0OlswOWvBcV5XNV1C)"
      ]
    },
    {
      "cell_type": "code",
      "metadata": {
        "id": "XTPNf3E5NFVs"
      },
      "source": [
        "# rate of change of error w.r.t weights between input and hidden layer\n",
        "error_wrt_wih = np.dot(Z1_wrt_wih,(h1_wrt_Z1*np.dot(Z2_wrt_h1,(output_wrt_Z2*error_wrt_output))).T)"
      ],
      "execution_count": 30,
      "outputs": []
    },
    {
      "cell_type": "code",
      "metadata": {
        "id": "_WN0I-mpNFVw",
        "colab": {
          "base_uri": "https://localhost:8080/"
        },
        "outputId": "ac41bd19-9cfb-4cb6-9260-a70ea2b0b030"
      },
      "source": [
        "error_wrt_wih.shape"
      ],
      "execution_count": 31,
      "outputs": [
        {
          "output_type": "execute_result",
          "data": {
            "text/plain": [
              "(4, 3)"
            ]
          },
          "metadata": {},
          "execution_count": 31
        }
      ]
    },
    {
      "cell_type": "markdown",
      "metadata": {
        "id": "W2bu4H5-NFVz"
      },
      "source": [
        "### Update the parameters"
      ]
    },
    {
      "cell_type": "markdown",
      "metadata": {
        "id": "-nmJnY_PNFV1"
      },
      "source": [
        "![alt text](https://drive.google.com/uc?id=1A5jaB3WjZx9yrJkk9imVEvP3PZodjapE)"
      ]
    },
    {
      "cell_type": "code",
      "metadata": {
        "id": "_r59xEpINFV2"
      },
      "source": [
        "# defining the learning rate\n",
        "lr = 0.01"
      ],
      "execution_count": 32,
      "outputs": []
    },
    {
      "cell_type": "code",
      "metadata": {
        "id": "aiBFNXd3NFV7",
        "colab": {
          "base_uri": "https://localhost:8080/"
        },
        "outputId": "f8441c3a-3404-4966-ba3c-ed8231992b71"
      },
      "source": [
        "# initial w_ho and w_ih\n",
        "w_ho"
      ],
      "execution_count": 33,
      "outputs": [
        {
          "output_type": "execute_result",
          "data": {
            "text/plain": [
              "array([[0.99959605],\n",
              "       [0.26703472],\n",
              "       [0.05738985]])"
            ]
          },
          "metadata": {},
          "execution_count": 33
        }
      ]
    },
    {
      "cell_type": "code",
      "metadata": {
        "id": "CuosFKUENFWB",
        "scrolled": true,
        "colab": {
          "base_uri": "https://localhost:8080/"
        },
        "outputId": "b1bb9caa-a4ac-4aee-820d-a88d9849eb6b"
      },
      "source": [
        "w_ih"
      ],
      "execution_count": 34,
      "outputs": [
        {
          "output_type": "execute_result",
          "data": {
            "text/plain": [
              "array([[0.0726594 , 0.9756756 , 0.80177958],\n",
              "       [0.13846854, 0.80101049, 0.53755175],\n",
              "       [0.52972546, 0.77573944, 0.11108939],\n",
              "       [0.49989517, 0.78842029, 0.68788424]])"
            ]
          },
          "metadata": {},
          "execution_count": 34
        }
      ]
    },
    {
      "cell_type": "code",
      "metadata": {
        "id": "D_Va2xywNFWF"
      },
      "source": [
        "# updating the weights of output layer\n",
        "w_ho = w_ho - lr * error_wrt_who"
      ],
      "execution_count": 35,
      "outputs": []
    },
    {
      "cell_type": "code",
      "metadata": {
        "id": "ruFlc96BNFWL"
      },
      "source": [
        "# updating the weights of hidden layer\n",
        "w_ih = w_ih - lr * error_wrt_wih"
      ],
      "execution_count": 36,
      "outputs": []
    },
    {
      "cell_type": "code",
      "metadata": {
        "id": "NTf4nS1xNFWP",
        "colab": {
          "base_uri": "https://localhost:8080/"
        },
        "outputId": "d758c981-1193-4b9a-ad91-37b836bc9554"
      },
      "source": [
        "# updated w_ho and w_ih\n",
        "w_ho"
      ],
      "execution_count": 37,
      "outputs": [
        {
          "output_type": "execute_result",
          "data": {
            "text/plain": [
              "array([[0.99939594],\n",
              "       [0.26678649],\n",
              "       [0.05709703]])"
            ]
          },
          "metadata": {},
          "execution_count": 37
        }
      ]
    },
    {
      "cell_type": "code",
      "metadata": {
        "id": "7VYNPPNlNFWU",
        "colab": {
          "base_uri": "https://localhost:8080/"
        },
        "outputId": "a4ef4fa2-b325-43be-b47e-72f1d40667de"
      },
      "source": [
        "w_ih"
      ],
      "execution_count": 38,
      "outputs": [
        {
          "output_type": "execute_result",
          "data": {
            "text/plain": [
              "array([[0.07288656, 0.97570431, 0.80179044],\n",
              "       [0.13813918, 0.80095573, 0.53753708],\n",
              "       [0.52995261, 0.77576815, 0.11110026],\n",
              "       [0.49965942, 0.78837459, 0.68787359]])"
            ]
          },
          "metadata": {},
          "execution_count": 38
        }
      ]
    },
    {
      "cell_type": "markdown",
      "metadata": {
        "id": "SxLy6DZlNFWY"
      },
      "source": [
        "## 6. Training the model for n epochs"
      ]
    },
    {
      "cell_type": "code",
      "metadata": {
        "id": "8HKS9vIyNFWZ"
      },
      "source": [
        "# defining the model architecture\n",
        "inputlayer_neurons = X.shape[0] # number of features in data set\n",
        "hiddenlayer_neurons = 3 # number of hidden layers neurons\n",
        "output_neurons = 1 # number of neurons at output layer\n",
        "\n",
        "# initializing weight\n",
        "w_ih=np.random.uniform(size=(inputlayer_neurons,hiddenlayer_neurons))\n",
        "w_ho=np.random.uniform(size=(hiddenlayer_neurons,output_neurons))\n",
        "\n",
        "# defining the parameters\n",
        "lr = 0.01\n",
        "epochs = 10000"
      ],
      "execution_count": 39,
      "outputs": []
    },
    {
      "cell_type": "code",
      "metadata": {
        "id": "ojybM51LNFWc",
        "colab": {
          "base_uri": "https://localhost:8080/"
        },
        "outputId": "b8ae3ad7-e471-45fb-e8f9-93d6ad64b3f3"
      },
      "source": [
        "# initial w_ih and w_ho\n",
        "w_ih"
      ],
      "execution_count": 40,
      "outputs": [
        {
          "output_type": "execute_result",
          "data": {
            "text/plain": [
              "array([[0.42143938, 0.94472029, 0.97664228],\n",
              "       [0.47374619, 0.04237758, 0.77067892],\n",
              "       [0.79640818, 0.03079978, 0.02540185],\n",
              "       [0.09463061, 0.00550001, 0.41330986]])"
            ]
          },
          "metadata": {},
          "execution_count": 40
        }
      ]
    },
    {
      "cell_type": "code",
      "metadata": {
        "id": "1RS_d3kdNFWg",
        "colab": {
          "base_uri": "https://localhost:8080/"
        },
        "outputId": "5945b609-219e-4007-b73e-42162f1a84e0"
      },
      "source": [
        "w_ho"
      ],
      "execution_count": 41,
      "outputs": [
        {
          "output_type": "execute_result",
          "data": {
            "text/plain": [
              "array([[0.04563163],\n",
              "       [0.67370008],\n",
              "       [0.46588833]])"
            ]
          },
          "metadata": {},
          "execution_count": 41
        }
      ]
    },
    {
      "cell_type": "code",
      "metadata": {
        "id": "_yVAcyW_NFWk"
      },
      "source": [
        "error_epoch = []\n",
        "for i in range(epochs):\n",
        "    # Forward Propogation\n",
        "    \n",
        "    # hidden layer activations\n",
        "    hidden_layer_input=np.dot(w_ih.T,X)\n",
        "    hiddenlayer_activations = sigmoid(hidden_layer_input)    \n",
        "    # calculating the output\n",
        "    output_layer_input=np.dot(w_ho.T,hiddenlayer_activations)\n",
        "    output = sigmoid(output_layer_input)\n",
        "    \n",
        "    \n",
        "    # Backward Propagation\n",
        "    \n",
        "    # calculating error\n",
        "    error = np.square(y-output)/2\n",
        "    error_wrt_output = -(y-output)\n",
        "    output_wrt_Z2 = np.multiply(output,(1-output))\n",
        "    Z2_wrt_who = hiddenlayer_activations\n",
        "    # rate of change of error w.r.t weight between hidden and output layer\n",
        "    error_wrt_who = np.dot(Z2_wrt_who,(error_wrt_output*output_wrt_Z2).T)\n",
        "    Z2_wrt_h1 = w_ho\n",
        "    h1_wrt_Z1 = np.multiply(hiddenlayer_activations,(1-hiddenlayer_activations))\n",
        "    Z1_wrt_wih = X\n",
        "    # rate of change of error w.r.t weights between input and hidden layer\n",
        "    error_wrt_wih = np.dot(Z1_wrt_wih,(h1_wrt_Z1*np.dot(Z2_wrt_h1,(error_wrt_output*output_wrt_Z2))).T)\n",
        "\n",
        "    # updating the weights between hidden and output layer\n",
        "    w_ho = w_ho - lr * error_wrt_who\n",
        "    # updating the weights between input and hidden layer\n",
        "    w_ih = w_ih - lr * error_wrt_wih\n",
        "    \n",
        "    # appending the error of each epoch\n",
        "    error_epoch.append(np.average(error))"
      ],
      "execution_count": 42,
      "outputs": []
    },
    {
      "cell_type": "code",
      "metadata": {
        "id": "Ra5mTgwUNFWo",
        "outputId": "68d2a964-b46c-4eac-dcd1-49744040a8b6",
        "colab": {
          "base_uri": "https://localhost:8080/"
        }
      },
      "source": [
        "# updated w_ih and w_ho\n",
        "w_ih"
      ],
      "execution_count": 43,
      "outputs": [
        {
          "output_type": "execute_result",
          "data": {
            "text/plain": [
              "array([[ 0.07710253,  2.20955065,  0.73601412],\n",
              "       [ 0.97539936, -1.85967542,  1.07161335],\n",
              "       [ 0.45207134,  1.29563014, -0.21522631],\n",
              "       [ 0.39293892, -1.04451657,  0.56490191]])"
            ]
          },
          "metadata": {},
          "execution_count": 43
        }
      ]
    },
    {
      "cell_type": "code",
      "metadata": {
        "id": "WeN2dcc0NFW8",
        "scrolled": true,
        "outputId": "b232ae4e-d42f-4481-c9d2-7a756da734a9",
        "colab": {
          "base_uri": "https://localhost:8080/",
          "height": 282
        }
      },
      "source": [
        "# visualizing the error after each epoch\n",
        "plt.plot(np.arange(1,epochs+1), np.array(error_epoch))"
      ],
      "execution_count": 44,
      "outputs": [
        {
          "output_type": "execute_result",
          "data": {
            "text/plain": [
              "[<matplotlib.lines.Line2D at 0x7f26ac56ee10>]"
            ]
          },
          "metadata": {},
          "execution_count": 44
        },
        {
          "output_type": "display_data",
          "data": {
            "image/png": "[encoded data removed]",
            "text/plain": [
              "<Figure size 432x288 with 1 Axes>"
            ]
          },
          "metadata": {
            "needs_background": "light"
          }
        }
      ]
    },
    {
      "cell_type": "code",
      "metadata": {
        "id": "bJlcGoeUNFXA",
        "outputId": "250817b2-5e1f-45dc-e389-7b18e83ade47",
        "colab": {
          "base_uri": "https://localhost:8080/"
        }
      },
      "source": [
        "# final output from the model\n",
        "output"
      ],
      "execution_count": 45,
      "outputs": [
        {
          "output_type": "execute_result",
          "data": {
            "text/plain": [
              "array([[0.92067577, 0.88335281, 0.16687303]])"
            ]
          },
          "metadata": {},
          "execution_count": 45
        }
      ]
    },
    {
      "cell_type": "code",
      "metadata": {
        "id": "ARNn3MiKNFXF",
        "outputId": "02bc2239-8c4a-4395-d797-161f92472af4",
        "colab": {
          "base_uri": "https://localhost:8080/"
        }
      },
      "source": [
        "# actual target\n",
        "y"
      ],
      "execution_count": 46,
      "outputs": [
        {
          "output_type": "execute_result",
          "data": {
            "text/plain": [
              "array([[1, 1, 0]])"
            ]
          },
          "metadata": {},
          "execution_count": 46
        }
      ]
    },
    {
      "cell_type": "code",
      "metadata": {
        "id": "MtwXl0bjNFXJ",
        "outputId": "83fd9559-4156-4443-f5e6-68874d9ca74a",
        "colab": {
          "base_uri": "https://localhost:8080/"
        }
      },
      "source": [
        "# error at last epoch\n",
        "error"
      ],
      "execution_count": 47,
      "outputs": [
        {
          "output_type": "execute_result",
          "data": {
            "text/plain": [
              "array([[0.00314617, 0.00680328, 0.0139233 ]])"
            ]
          },
          "metadata": {},
          "execution_count": 47
        }
      ]
    },
    {
      "cell_type": "code",
      "metadata": {
        "id": "HkfQF2CC2ir6"
      },
      "source": [
        ""
      ],
      "execution_count": null,
      "outputs": []
    }
  ]
}