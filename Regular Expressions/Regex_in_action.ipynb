{
  "nbformat": 4,
  "nbformat_minor": 0,
  "metadata": {
    "colab": {
      "name": "Regex_in_action.ipynb",
      "provenance": [],
      "collapsed_sections": [],
      "include_colab_link": true
    },
    "kernelspec": {
      "display_name": "Python 3",
      "language": "python",
      "name": "python3"
    },
    "language_info": {
      "codemirror_mode": {
        "name": "ipython",
        "version": 3
      },
      "file_extension": ".py",
      "mimetype": "text/x-python",
      "name": "python",
      "nbconvert_exporter": "python",
      "pygments_lexer": "ipython3",
      "version": "3.6.7"
    }
  },
  "cells": [
    {
      "cell_type": "markdown",
      "metadata": {
        "id": "view-in-github",
        "colab_type": "text"
      },
      "source": [
        "<a href=\"https://colab.research.google.com/github/nitinsharma006/data_science/blob/master/Regular%20Expressions/Regex_in_action.ipynb\" target=\"_parent\"><img src=\"https://colab.research.google.com/assets/colab-badge.svg\" alt=\"Open In Colab\"/></a>"
      ]
    },
    {
      "cell_type": "markdown",
      "metadata": {
        "id": "Zf0s_g8kcGwX"
      },
      "source": [
        "# Learn to Use Regular Expressions (RegEx)"
      ]
    },
    {
      "cell_type": "markdown",
      "metadata": {
        "id": "BzgUXp2t5t__"
      },
      "source": [
        "Python has a built-in module to work with regular expressions called **re**. Some of the commonly used methods from the **re** module are listed below:\n",
        "\n",
        "1.re.match( )\n",
        "\n",
        "2.re.search( )\n",
        "\n",
        "3.re.findall( )\n",
        "\n",
        "4.re.sub( )\n",
        "\n",
        "<br>\n",
        "\n",
        "Let us look at each method with the help of example.\n",
        "\n",
        "**1. re.match()**\n",
        "\n",
        "The re.match function returns a match object on success and none on failure. "
      ]
    },
    {
      "cell_type": "code",
      "metadata": {
        "id": "LiXEkNiFsuyl",
        "outputId": "5e52720f-0808-4c55-e155-d5662a600685",
        "colab": {
          "base_uri": "https://localhost:8080/"
        }
      },
      "source": [
        "# import re library\n",
        "import re\n",
        "\n",
        "#match a word at the beginning of a string\n",
        "\n",
        "result = re.match('Analytics','Analytics Vidhya is the largest data science community of India') \n",
        "print(result)\n",
        "\n",
        "result_2 = re.match('largest','Analytics Vidhya is the largest data science community of India') \n",
        "print(result_2)"
      ],
      "execution_count": 1,
      "outputs": [
        {
          "output_type": "stream",
          "name": "stdout",
          "text": [
            "<re.Match object; span=(0, 9), match='Analytics'>\n",
            "None\n"
          ]
        }
      ]
    },
    {
      "cell_type": "markdown",
      "metadata": {
        "id": "8vocMyh-ecWx"
      },
      "source": [
        "Since output of the re.match is an object, we will use *group()* function of match object to get the matched expression."
      ]
    },
    {
      "cell_type": "code",
      "metadata": {
        "id": "UH1qzis2ebvp",
        "outputId": "ffc5d5ef-ea37-4a73-f319-e05134233aba",
        "colab": {
          "base_uri": "https://localhost:8080/"
        }
      },
      "source": [
        "print(result.group())  #returns the total matches"
      ],
      "execution_count": 2,
      "outputs": [
        {
          "output_type": "stream",
          "name": "stdout",
          "text": [
            "Analytics\n"
          ]
        }
      ]
    },
    {
      "cell_type": "markdown",
      "metadata": {
        "id": "kamRye8242ZW"
      },
      "source": [
        "<br>\n",
        "\n",
        "**2. re.search()**\n",
        "\n",
        "Matches the first occurence of a pattern in the entire string."
      ]
    },
    {
      "cell_type": "code",
      "metadata": {
        "id": "tPWpkEMT15yo",
        "outputId": "9a1e041f-ccfb-433f-dba3-0da980079b1a",
        "colab": {
          "base_uri": "https://localhost:8080/"
        }
      },
      "source": [
        "# search for the pattern \"founded\" in a given string\n",
        "result = re.search('founded','Andrew NG founded Coursera. He also founded deeplearning.ai')\n",
        "print(result.group())"
      ],
      "execution_count": 3,
      "outputs": [
        {
          "output_type": "stream",
          "name": "stdout",
          "text": [
            "founded\n"
          ]
        }
      ]
    },
    {
      "cell_type": "markdown",
      "metadata": {
        "id": "C3rEa5tA-p1v"
      },
      "source": [
        "<br>\n",
        "\n",
        "**3. re.findall()**\n",
        "\n",
        "It will return all the occurrences of the pattern from the string. I would recommend you to use *re.findall()* always, it can work like both *re.search()* and *re.match()*."
      ]
    },
    {
      "cell_type": "code",
      "metadata": {
        "id": "FnX7nhmm15wv",
        "outputId": "ac7db829-eb6e-445d-ae4b-cad7eba90bcb",
        "colab": {
          "base_uri": "https://localhost:8080/"
        }
      },
      "source": [
        "result = re.findall('founded','Andrew NG founded Coursera. He also founded deeplearning.ai')  \n",
        "print(result)"
      ],
      "execution_count": 4,
      "outputs": [
        {
          "output_type": "stream",
          "name": "stdout",
          "text": [
            "['founded', 'founded']\n"
          ]
        }
      ]
    },
    {
      "cell_type": "markdown",
      "metadata": {
        "id": "0kcvKxNopI9t"
      },
      "source": [
        "__4. re.sub()__\n",
        "\n",
        "This method returns a string where matched occurences are replaced with a new text string."
      ]
    },
    {
      "cell_type": "code",
      "metadata": {
        "id": "FfzqKbFKptH7",
        "outputId": "69625dc9-ffba-41bf-e397-951db10fb494",
        "colab": {
          "base_uri": "https://localhost:8080/"
        }
      },
      "source": [
        "result = re.sub('He', 'Andrew NG', 'Andrew NG founded Coursera. He also founded deeplearning.ai')  \n",
        "print(result)"
      ],
      "execution_count": 5,
      "outputs": [
        {
          "output_type": "stream",
          "name": "stdout",
          "text": [
            "Andrew NG founded Coursera. Andrew NG also founded deeplearning.ai\n"
          ]
        }
      ]
    },
    {
      "cell_type": "code",
      "metadata": {
        "id": "B_DKsBbPqG7G",
        "outputId": "24bb641b-dad7-467c-f6fe-c865841c3c11",
        "colab": {
          "base_uri": "https://localhost:8080/"
        }
      },
      "source": [
        "result = re.sub('also', '', 'Andrew NG founded Coursera. He also founded deeplearning.ai')  \n",
        "print(result)"
      ],
      "execution_count": 6,
      "outputs": [
        {
          "output_type": "stream",
          "name": "stdout",
          "text": [
            "Andrew NG founded Coursera. He  founded deeplearning.ai\n"
          ]
        }
      ]
    },
    {
      "cell_type": "markdown",
      "metadata": {
        "id": "xQmyJ3li_FA4"
      },
      "source": [
        "### Special sequences"
      ]
    },
    {
      "cell_type": "markdown",
      "metadata": {
        "id": "9cuV3PLx_0QN"
      },
      "source": [
        "1. **\\b** returns a match where the specified pattern is at the beginning or at the end of a word."
      ]
    },
    {
      "cell_type": "code",
      "metadata": {
        "id": "WHo26_h_-QcB",
        "outputId": "7fe705fc-a349-4328-af20-ccdd9522371c",
        "colab": {
          "base_uri": "https://localhost:8080/"
        }
      },
      "source": [
        "# Check if there is any word that ends with \"ics\"\n",
        "x = re.findall(r\"ics\\b\", \"Analytics Vidhya is one of the largest data science communities\")\n",
        "print(x)"
      ],
      "execution_count": 7,
      "outputs": [
        {
          "output_type": "stream",
          "name": "stdout",
          "text": [
            "['ics']\n"
          ]
        }
      ]
    },
    {
      "cell_type": "code",
      "metadata": {
        "id": "yVKk8i4j7Rul",
        "outputId": "b54486c0-6b6a-4d8b-c211-2cc43a3cb76f",
        "colab": {
          "base_uri": "https://localhost:8080/"
        }
      },
      "source": [
        "# Check if there is any word that ends with \"est\"\n",
        "x = re.findall(r\"est\\b\", \"Analytics Vidhya is one of the largest data science communities\")\n",
        "print(x)"
      ],
      "execution_count": 9,
      "outputs": [
        {
          "output_type": "stream",
          "name": "stdout",
          "text": [
            "['est']\n"
          ]
        }
      ]
    },
    {
      "cell_type": "markdown",
      "metadata": {
        "id": "jf8OMVMH-a3F"
      },
      "source": [
        "It returns the last three characters of the word \"largest\"."
      ]
    },
    {
      "cell_type": "markdown",
      "metadata": {
        "id": "I5dAw37yBkKb"
      },
      "source": [
        "2. **\\d** returns a match when the string contains digits (numbers from 0-9)"
      ]
    },
    {
      "cell_type": "code",
      "metadata": {
        "id": "bJfck2AgsRYO",
        "outputId": "41b47dae-5518-49fa-aa11-e1c1bcc85c37",
        "colab": {
          "base_uri": "https://localhost:8080/"
        }
      },
      "source": [
        "str = \"2 million monthly visits in Jan'19.\"\n",
        "\n",
        "# Check if the string contains any digits (numbers from 0-9):\n",
        "x = re.findall(\"\\d\", str)\n",
        "\n",
        "print(x)"
      ],
      "execution_count": 10,
      "outputs": [
        {
          "output_type": "stream",
          "name": "stdout",
          "text": [
            "['2', '1', '9']\n"
          ]
        }
      ]
    },
    {
      "cell_type": "code",
      "metadata": {
        "id": "RPfU5fMNiu6o",
        "outputId": "e11a2e4a-4626-48cf-cb12-efe49fcbcb94",
        "colab": {
          "base_uri": "https://localhost:8080/"
        }
      },
      "source": [
        "str = \"2 million monthly visits in Jan'19.\"\n",
        "\n",
        "# Check if the string contains any digits (numbers from 0-9):\n",
        "# adding '+' after '\\d' will continue to extract digits till encounters a space\n",
        "x = re.findall(\"\\d+\", str)\n",
        "\n",
        "print(x)"
      ],
      "execution_count": 11,
      "outputs": [
        {
          "output_type": "stream",
          "name": "stdout",
          "text": [
            "['2', '19']\n"
          ]
        }
      ]
    },
    {
      "cell_type": "markdown",
      "metadata": {
        "id": "VmrhSJKkjAR2"
      },
      "source": [
        "We can infer that **\\d+** repeats one or more occurences of **\\d** till the non maching character is found where as **\\d** does character wise comparison."
      ]
    },
    {
      "cell_type": "markdown",
      "metadata": {
        "id": "m4IXrubzCSKD"
      },
      "source": [
        "3. **\\w** helps in extraction of alphanumeric characters only (characters from a to Z, digits from 0-9, and the underscore _ character)\n"
      ]
    },
    {
      "cell_type": "code",
      "metadata": {
        "id": "h7SH3j7Aj5Iv",
        "outputId": "6f5cefac-5552-4855-e198-16047d59636c",
        "colab": {
          "base_uri": "https://localhost:8080/"
        }
      },
      "source": [
        "str = \"2 million monthly visits!\"\n",
        "\n",
        "x = re.findall(\"\\w+\",str)\n",
        "\n",
        "print(x)"
      ],
      "execution_count": 12,
      "outputs": [
        {
          "output_type": "stream",
          "name": "stdout",
          "text": [
            "['2', 'million', 'monthly', 'visits']\n"
          ]
        }
      ]
    },
    {
      "cell_type": "markdown",
      "metadata": {
        "id": "UIaXDjPYDT1S"
      },
      "source": [
        "## Metacharacters\n",
        "\n",
        "Metacharacters are characters with a special meaning\n",
        "\n",
        "1. **(.)** matches any character (except newline character)"
      ]
    },
    {
      "cell_type": "code",
      "metadata": {
        "id": "hFZuFqBdDS3l",
        "outputId": "5a261893-df99-4e07-ceab-ce3e8f881e87",
        "colab": {
          "base_uri": "https://localhost:8080/"
        }
      },
      "source": [
        "str = \"rohan and rohit recently published a research paper!\" \n",
        "\n",
        "# search for a string that starts with \"ro\", followed by 1 character\n",
        "x = re.findall(\"ro.\", str)\n",
        "\n",
        "print(x)"
      ],
      "execution_count": 13,
      "outputs": [
        {
          "output_type": "stream",
          "name": "stdout",
          "text": [
            "['roh', 'roh']\n"
          ]
        }
      ]
    },
    {
      "cell_type": "code",
      "metadata": {
        "id": "tTbMuMd_5vFb",
        "outputId": "f2a28f03-78a4-4279-e6cb-2f8e0d20696a",
        "colab": {
          "base_uri": "https://localhost:8080/"
        }
      },
      "source": [
        "# search for a string that starts with \"ro\", followed by three characters\n",
        "x2 = re.findall(\"ro...\", str)\n",
        "\n",
        "print(x2)"
      ],
      "execution_count": 14,
      "outputs": [
        {
          "output_type": "stream",
          "name": "stdout",
          "text": [
            "['rohan', 'rohit']\n"
          ]
        }
      ]
    },
    {
      "cell_type": "markdown",
      "metadata": {
        "id": "zI7dJWYpDl3G"
      },
      "source": [
        "2. **(^)** starts with"
      ]
    },
    {
      "cell_type": "code",
      "metadata": {
        "id": "_3uPdcQPDlR0",
        "outputId": "29ca1c4c-643c-4feb-c7e1-eb5b90671ea2",
        "colab": {
          "base_uri": "https://localhost:8080/"
        }
      },
      "source": [
        "str = \"Data Science\"\n",
        "\n",
        "#Check if the string starts with 'Data':\n",
        "x = re.findall(\"^Data\", str)\n",
        "\n",
        "if (x):\n",
        "  print(\"Yes, the string starts with 'Data'\")\n",
        "else:\n",
        "  print(\"No match\")\n",
        "  \n",
        "#print(x)  "
      ],
      "execution_count": 15,
      "outputs": [
        {
          "output_type": "stream",
          "name": "stdout",
          "text": [
            "Yes, the string starts with 'Data'\n"
          ]
        }
      ]
    },
    {
      "cell_type": "code",
      "metadata": {
        "id": "QTbvAIFfHAVY",
        "outputId": "f2a79548-22e5-4bbb-e745-66ad95b364f6",
        "colab": {
          "base_uri": "https://localhost:8080/"
        }
      },
      "source": [
        "# try with a different string\n",
        "str2 = \"Big Data\"\n",
        "\n",
        "#Check if the string starts with 'Data':\n",
        "x2 = re.findall(\"^Data\", str2)\n",
        "\n",
        "if (x2):\n",
        "  print(\"Yes, the string starts with 'data'\")\n",
        "else:\n",
        "  print(\"No match\")\n",
        "  \n",
        "#print(x2)  "
      ],
      "execution_count": 16,
      "outputs": [
        {
          "output_type": "stream",
          "name": "stdout",
          "text": [
            "No match\n"
          ]
        }
      ]
    },
    {
      "cell_type": "markdown",
      "metadata": {
        "id": "8uPoaY_ID0LW"
      },
      "source": [
        "3. **($)** ends with"
      ]
    },
    {
      "cell_type": "code",
      "metadata": {
        "id": "IK_XYDpmC9f_",
        "outputId": "0ec7be31-d6f1-47fe-b59f-961358d3d2e3",
        "colab": {
          "base_uri": "https://localhost:8080/"
        }
      },
      "source": [
        "str = \"Data Science\"\n",
        "\n",
        "#Check if the string ends with 'Science':\n",
        "\n",
        "x = re.findall(\"Science$\", str)\n",
        "\n",
        "if (x):\n",
        "  print(\"Yes, the string ends with 'Science'\")\n",
        "\n",
        "else:\n",
        "  print(\"No match\")\n",
        "  \n",
        "#print(x)"
      ],
      "execution_count": 17,
      "outputs": [
        {
          "output_type": "stream",
          "name": "stdout",
          "text": [
            "Yes, the string ends with 'Science'\n"
          ]
        }
      ]
    },
    {
      "cell_type": "code",
      "metadata": {
        "id": "qV9oLbgGg2A4",
        "outputId": "c2382576-877e-4cf1-a9ca-b200976099aa",
        "colab": {
          "base_uri": "https://localhost:8080/"
        }
      },
      "source": [
        "str = \"Big Data\"\n",
        "\n",
        "#Check if the string ends with 'Science':\n",
        "\n",
        "x = re.findall(\"Science$\", str)\n",
        "\n",
        "if (x):\n",
        "  print(\"Yes, the string ends with 'Science'\")\n",
        "\n",
        "else:\n",
        "  print(\"No match\")\n",
        "  \n",
        "#print(x)"
      ],
      "execution_count": 18,
      "outputs": [
        {
          "output_type": "stream",
          "name": "stdout",
          "text": [
            "No match\n"
          ]
        }
      ]
    },
    {
      "cell_type": "markdown",
      "metadata": {
        "id": "Fz089xrhD-HP"
      },
      "source": [
        "4. (*) matches for zero or more occurences of the pattern to the left of it."
      ]
    },
    {
      "cell_type": "code",
      "metadata": {
        "id": "5vXhYm30CRi4",
        "outputId": "c94710a1-763d-4cea-b55c-5b53f3e40d06",
        "colab": {
          "base_uri": "https://localhost:8080/"
        }
      },
      "source": [
        "str = \"easy easssy eay eaty\"\n",
        "\n",
        "#Check if the string contains \"ea\" followed by 0 or more \"s\" characters and ending with y\n",
        "x = re.findall(\"eas*y\", str)\n",
        "\n",
        "print(x)"
      ],
      "execution_count": 19,
      "outputs": [
        {
          "output_type": "stream",
          "name": "stdout",
          "text": [
            "['easy', 'easssy', 'eay']\n"
          ]
        }
      ]
    },
    {
      "cell_type": "markdown",
      "metadata": {
        "id": "Bvc01ip_E_la"
      },
      "source": [
        "## Sets\n",
        "\n",
        "1. A set is a bunch of characters inside a pair of square brackets [ ] with a special meaning."
      ]
    },
    {
      "cell_type": "code",
      "metadata": {
        "id": "qvUXj2t6EgqK",
        "outputId": "266423e7-c952-4ddf-ffea-4c0fad7a1595",
        "colab": {
          "base_uri": "https://localhost:8080/"
        }
      },
      "source": [
        "str = \"Analytics Vidhya is one of the largest data science communities\"\n",
        "\n",
        "#Check for the characters y, d, or h, in the above string\n",
        "x = re.findall(\"[ydh]\", str)\n",
        "\n",
        "print(x)"
      ],
      "execution_count": 20,
      "outputs": [
        {
          "output_type": "stream",
          "name": "stdout",
          "text": [
            "['y', 'd', 'h', 'y', 'h', 'd']\n"
          ]
        }
      ]
    },
    {
      "cell_type": "code",
      "metadata": {
        "id": "SsizfCMeK7w0",
        "outputId": "71264767-d8d2-4789-c236-967b89e871d7",
        "colab": {
          "base_uri": "https://localhost:8080/"
        }
      },
      "source": [
        "str = \"Analytics Vidhya is the one of the largest data science communities\"\n",
        "\n",
        "#Check for the characters between a and g, in the above string\n",
        "x = re.findall(\"[a-g]\", str)\n",
        "\n",
        "print(x)"
      ],
      "execution_count": 21,
      "outputs": [
        {
          "output_type": "stream",
          "name": "stdout",
          "text": [
            "['a', 'c', 'd', 'a', 'e', 'e', 'f', 'e', 'a', 'g', 'e', 'd', 'a', 'a', 'c', 'e', 'c', 'e', 'c', 'e']\n"
          ]
        }
      ]
    },
    {
      "cell_type": "markdown",
      "metadata": {
        "id": "F9fLACdByqG4"
      },
      "source": [
        "2. **[^]** Check whether string has other characters mentioned after ^"
      ]
    },
    {
      "cell_type": "code",
      "metadata": {
        "id": "E-RchTxCFB9Z",
        "outputId": "37260ab9-03fa-48b5-ac94-63f8d1231b8c",
        "colab": {
          "base_uri": "https://localhost:8080/"
        }
      },
      "source": [
        "str = \"Analytics Vidhya is one of the largest data sciece communities\"\n",
        "\n",
        "#Check if every word character has characters other than y, d, or h\n",
        "\n",
        "x = re.findall(\"[^ydh]\", str)\n",
        "\n",
        "print(x)"
      ],
      "execution_count": 22,
      "outputs": [
        {
          "output_type": "stream",
          "name": "stdout",
          "text": [
            "['A', 'n', 'a', 'l', 't', 'i', 'c', 's', ' ', 'V', 'i', 'a', ' ', 'i', 's', ' ', 'o', 'n', 'e', ' ', 'o', 'f', ' ', 't', 'e', ' ', 'l', 'a', 'r', 'g', 'e', 's', 't', ' ', 'a', 't', 'a', ' ', 's', 'c', 'i', 'e', 'c', 'e', ' ', 'c', 'o', 'm', 'm', 'u', 'n', 'i', 't', 'i', 'e', 's']\n"
          ]
        }
      ]
    },
    {
      "cell_type": "code",
      "metadata": {
        "id": "bnIyO4jBq7ev",
        "outputId": "c2356bea-5b65-4a8e-b616-83f25224cf36",
        "colab": {
          "base_uri": "https://localhost:8080/"
        }
      },
      "source": [
        "str = \"@AnalyticsVidhya\"\n",
        "\n",
        "x = re.findall(\"[^@]\", str)\n",
        "\n",
        "print(x)"
      ],
      "execution_count": 23,
      "outputs": [
        {
          "output_type": "stream",
          "name": "stdout",
          "text": [
            "['A', 'n', 'a', 'l', 'y', 't', 'i', 'c', 's', 'V', 'i', 'd', 'h', 'y', 'a']\n"
          ]
        }
      ]
    },
    {
      "cell_type": "markdown",
      "metadata": {
        "id": "58EH37MJ3b2t"
      },
      "source": [
        "---\n",
        "## Solve Some Queries\n",
        "\n",
        "Let us try solving some queries that we are likeli to come across while working with real world text datasets.\n",
        "\n"
      ]
    },
    {
      "cell_type": "markdown",
      "metadata": {
        "id": "fTxr0XL0uQRz"
      },
      "source": [
        "### Eliminating Unwanted Terms"
      ]
    },
    {
      "cell_type": "code",
      "metadata": {
        "id": "ERuBZsjmvYfV",
        "outputId": "0457e9f3-dc18-464e-c98d-6f2c7d0cce9e",
        "colab": {
          "base_uri": "https://localhost:8080/"
        }
      },
      "source": [
        "str = \"@AV a Data Science community #AV!!\"\n",
        "\n",
        "# extract words that start with a special character\n",
        "x = re.sub(\"[^a-zA-Z ]\", \"\",str)\n",
        "\n",
        "print(x)"
      ],
      "execution_count": 24,
      "outputs": [
        {
          "output_type": "stream",
          "name": "stdout",
          "text": [
            "AV a Data Science community AV\n"
          ]
        }
      ]
    },
    {
      "cell_type": "code",
      "metadata": {
        "id": "a1W_Thott5eu",
        "outputId": "c05cdfec-5090-4cd6-e0a4-2dff745e5e0e",
        "colab": {
          "base_uri": "https://localhost:8080/"
        }
      },
      "source": [
        "str = \"@AV a Data Science community #AV!!\"\n",
        "\n",
        "# extract words that start with a special character\n",
        "# \\w matches any alpha numeric character \n",
        "# + for repeats a character one or more times\n",
        "x = re.sub(\"[^a-zA-Z ]\\w+\", \"\",str)\n",
        "\n",
        "print(x)"
      ],
      "execution_count": 25,
      "outputs": [
        {
          "output_type": "stream",
          "name": "stdout",
          "text": [
            " a Data Science community !!\n"
          ]
        }
      ]
    },
    {
      "cell_type": "markdown",
      "metadata": {
        "id": "fZVxO8pZuMxZ"
      },
      "source": [
        "### Finding Email IDs"
      ]
    },
    {
      "cell_type": "code",
      "metadata": {
        "id": "lWfrRxAD177J",
        "outputId": "4132fbee-48f3-443d-9624-b5a008c4c543",
        "colab": {
          "base_uri": "https://localhost:8080/"
        }
      },
      "source": [
        "str = 'Send a mail to rohan.1997@gmail.com, smith_david34@yahoo.com and priya@yahoo.com about the meeting @2PM'\n",
        "  \n",
        "# \\w matches any alpha numeric character \n",
        "# + for repeats a character one or more times\n",
        "x = re.findall('[a-zA-Z0-9._-]+@\\w+\\.com', str)     \n",
        "  \n",
        "# Printing of List \n",
        "print(x) "
      ],
      "execution_count": 26,
      "outputs": [
        {
          "output_type": "stream",
          "name": "stdout",
          "text": [
            "['rohan.1997@gmail.com', 'smith_david34@yahoo.com', 'priya@yahoo.com']\n"
          ]
        }
      ]
    },
    {
      "cell_type": "code",
      "metadata": {
        "id": "QV-sepYG5Qbt"
      },
      "source": [
        ""
      ],
      "execution_count": 26,
      "outputs": []
    }
  ]
}