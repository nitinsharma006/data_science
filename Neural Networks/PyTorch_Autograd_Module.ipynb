{
  "nbformat": 4,
  "nbformat_minor": 0,
  "metadata": {
    "colab": {
      "name": "PyTorch Autograd Module.ipynb",
      "provenance": [],
      "collapsed_sections": [],
      "include_colab_link": true
    },
    "kernelspec": {
      "name": "python3",
      "display_name": "Python 3"
    },
    "accelerator": "GPU"
  },
  "cells": [
    {
      "cell_type": "markdown",
      "metadata": {
        "id": "view-in-github",
        "colab_type": "text"
      },
      "source": [
        "<a href=\"https://colab.research.google.com/github/nitinsharma006/data_science/blob/master/Neural%20Networks/PyTorch_Autograd_Module.ipynb\" target=\"_parent\"><img src=\"https://colab.research.google.com/assets/colab-badge.svg\" alt=\"Open In Colab\"/></a>"
      ]
    },
    {
      "cell_type": "code",
      "metadata": {
        "id": "ufxjyUsuS70w"
      },
      "source": [
        "# importing torch library\n",
        "import torch"
      ],
      "execution_count": 1,
      "outputs": []
    },
    {
      "cell_type": "code",
      "metadata": {
        "id": "Y5L5cq2KS6tb",
        "outputId": "709d01e0-db41-47fd-c957-d922bc689eb4",
        "colab": {
          "base_uri": "https://localhost:8080/"
        }
      },
      "source": [
        "# initializing a 2d tensor\n",
        "a = torch.tensor([[1,1], [1,1]], dtype=torch.float)\n",
        "a"
      ],
      "execution_count": 2,
      "outputs": [
        {
          "output_type": "execute_result",
          "data": {
            "text/plain": [
              "tensor([[1., 1.],\n",
              "        [1., 1.]])"
            ]
          },
          "metadata": {},
          "execution_count": 2
        }
      ]
    },
    {
      "cell_type": "code",
      "metadata": {
        "id": "7sUfDwaETIMQ",
        "outputId": "bfad6f2a-ec58-4729-ca4a-deef3a64ee75",
        "colab": {
          "base_uri": "https://localhost:8080/"
        }
      },
      "source": [
        "# performing operations on the tensor\n",
        "b = a + 5\n",
        "print(b)"
      ],
      "execution_count": 3,
      "outputs": [
        {
          "output_type": "stream",
          "name": "stdout",
          "text": [
            "tensor([[6., 6.],\n",
            "        [6., 6.]])\n"
          ]
        }
      ]
    },
    {
      "cell_type": "code",
      "metadata": {
        "id": "AwzOn_BXTO6F",
        "outputId": "6c8a13ed-e80d-4802-e67d-16b4a2034364",
        "colab": {
          "base_uri": "https://localhost:8080/"
        }
      },
      "source": [
        "# performing another operation\n",
        "c = b.mean()\n",
        "print(c)"
      ],
      "execution_count": 4,
      "outputs": [
        {
          "output_type": "stream",
          "name": "stdout",
          "text": [
            "tensor(6.)\n"
          ]
        }
      ]
    },
    {
      "cell_type": "markdown",
      "metadata": {
        "id": "_UCuralTTrd5"
      },
      "source": [
        "### Operations we have applied\n",
        "\n",
        "\n",
        "\n",
        "1. First of all, we added 5 to all the elements of this tensor\n",
        "2. Then, we took the mean of that tensor\n",
        "\n",
        "We performed the following operations on a:\n",
        "\n",
        "b = a + 5\n",
        "\n",
        "c = mean(b) = Σ(a+5) / 4"
      ]
    },
    {
      "cell_type": "markdown",
      "metadata": {
        "id": "03e0CrUDQpd6"
      },
      "source": [
        "\n",
        "\n",
        "\n",
        "\n",
        "\n",
        "### Gradient of c with respect to a\n",
        "\n",
        "dc / da = dc/db * db / da = 1/4(1+0) * (1+0) = 1/4 = 0.25\n",
        "\n",
        "Similarly, we can compute for all elements of a"
      ]
    },
    {
      "cell_type": "markdown",
      "metadata": {
        "id": "H0NymKMlUaSf"
      },
      "source": [
        "## Automatic Differentiation"
      ]
    },
    {
      "cell_type": "code",
      "metadata": {
        "id": "nvVnfksYUZz9",
        "outputId": "26ad5118-cd98-41bc-edc0-2d05ab741ac4",
        "colab": {
          "base_uri": "https://localhost:8080/"
        }
      },
      "source": [
        "# initializing a 2d tensor and setting requires_grad as True\n",
        "a = torch.tensor([[1,1], [1,1]], dtype= torch.float, requires_grad=True)\n",
        "a"
      ],
      "execution_count": 5,
      "outputs": [
        {
          "output_type": "execute_result",
          "data": {
            "text/plain": [
              "tensor([[1., 1.],\n",
              "        [1., 1.]], requires_grad=True)"
            ]
          },
          "metadata": {},
          "execution_count": 5
        }
      ]
    },
    {
      "cell_type": "code",
      "metadata": {
        "id": "wZQSTpMsTgjg",
        "outputId": "34adf6e7-d152-435f-c1ef-dc9d5402a6c2",
        "colab": {
          "base_uri": "https://localhost:8080/"
        }
      },
      "source": [
        "# performing operations on the tensor\n",
        "b = a + 5\n",
        "c = b.mean()\n",
        "print(b)\n",
        "print(c)"
      ],
      "execution_count": 6,
      "outputs": [
        {
          "output_type": "stream",
          "name": "stdout",
          "text": [
            "tensor([[6., 6.],\n",
            "        [6., 6.]], grad_fn=<AddBackward0>)\n",
            "tensor(6., grad_fn=<MeanBackward0>)\n"
          ]
        }
      ]
    },
    {
      "cell_type": "code",
      "metadata": {
        "id": "3mib79cKUpLO"
      },
      "source": [
        "# back propagating\n",
        "c.backward()"
      ],
      "execution_count": 7,
      "outputs": []
    },
    {
      "cell_type": "code",
      "metadata": {
        "id": "z3MDNuFUUwwE",
        "outputId": "a6ff8fb6-848b-4823-83ae-573b2f8c8412",
        "colab": {
          "base_uri": "https://localhost:8080/"
        }
      },
      "source": [
        "# calculated gradients\n",
        "print(a.grad)"
      ],
      "execution_count": 8,
      "outputs": [
        {
          "output_type": "stream",
          "name": "stdout",
          "text": [
            "tensor([[0.2500, 0.2500],\n",
            "        [0.2500, 0.2500]])\n"
          ]
        }
      ]
    },
    {
      "cell_type": "code",
      "metadata": {
        "id": "Kou6WvaQUzwz"
      },
      "source": [
        ""
      ],
      "execution_count": null,
      "outputs": []
    }
  ]
}